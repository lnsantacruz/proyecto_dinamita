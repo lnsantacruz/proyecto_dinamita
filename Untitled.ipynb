{
 "cells": [
  {
   "cell_type": "code",
   "execution_count": 5,
   "id": "93fc843a",
   "metadata": {},
   "outputs": [
    {
     "name": "stdout",
     "output_type": "stream",
     "text": [
      "['Banana', 'Uvas', 'Mango', 'Naranja']\n"
     ]
    }
   ],
   "source": [
    "frutas = []\n",
    "\n",
    "frutas.append('Banana')\n",
    "frutas.append('Uvas')\n",
    "frutas.append('Mango')\n",
    "frutas.append('Naranja')\n",
    "\n",
    "print(frutas)"
   ]
  },
  {
   "cell_type": "code",
   "execution_count": 6,
   "id": "c29a43a1",
   "metadata": {},
   "outputs": [
    {
     "name": "stdout",
     "output_type": "stream",
     "text": [
      "Naranja\n"
     ]
    }
   ],
   "source": [
    "pop1 = frutas.pop()\n",
    "print(pop1)"
   ]
  },
  {
   "cell_type": "code",
   "execution_count": 10,
   "id": "6e311e31",
   "metadata": {},
   "outputs": [
    {
     "name": "stdout",
     "output_type": "stream",
     "text": [
      "Mango\n"
     ]
    }
   ],
   "source": [
    "pop2=frutas.pop()\n",
    "print(pop2)"
   ]
  },
  {
   "cell_type": "code",
   "execution_count": 11,
   "id": "bbacb77a",
   "metadata": {},
   "outputs": [
    {
     "name": "stdout",
     "output_type": "stream",
     "text": [
      "['Banana', 'Uvas']\n"
     ]
    }
   ],
   "source": [
    "print(frutas)"
   ]
  },
  {
   "cell_type": "code",
   "execution_count": null,
   "id": "d02e88a9",
   "metadata": {},
   "outputs": [],
   "source": [
    "import pandas as pd\n",
    "df = pd.read_csv ('C:\\DIR\\prueba1.csv')\n",
    "df.head()\n",
    "df.value_counts()\n",
    "df3 = df.sort_values('Nombre',ascending=True)\n",
    "df3\n",
    "valoresnulos = df[df.Nombre.isnull()]\n",
    "valoresnulos\n",
    "sueldoMI500 = (df[df.Sueldo>=500])\n",
    "sueldoMI500"
   ]
  }
 ],
 "metadata": {
  "kernelspec": {
   "display_name": "Python 3 (ipykernel)",
   "language": "python",
   "name": "python3"
  },
  "language_info": {
   "codemirror_mode": {
    "name": "ipython",
    "version": 3
   },
   "file_extension": ".py",
   "mimetype": "text/x-python",
   "name": "python",
   "nbconvert_exporter": "python",
   "pygments_lexer": "ipython3",
   "version": "3.9.12"
  }
 },
 "nbformat": 4,
 "nbformat_minor": 5
}
